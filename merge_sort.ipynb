{
 "cells": [
  {
   "cell_type": "code",
   "execution_count": null,
   "metadata": {},
   "outputs": [],
   "source": [
    "#recursive\n",
    "import random\n",
    "#divide and conquer method\n",
    "\n",
    "easy_arr = [222, 83, 5, 3, 49, 41, 1, 7,11,43,12,1,18,30,42,1,1,1,1,2,4,6,2,491,2,7]\n",
    "random_arr = [random.randint(1,999) for _ in range(100)]\n",
    "print(\"A change\")\n",
    "\n",
    "#divide in half untill we are at individual items\n",
    "\n",
    "#compare individual items and store in temporary arrays\n",
    "\n",
    "#https://www.youtube.com/watch?v=4VqmGXwpLqc"
   ]
  },
  {
   "cell_type": "code",
   "execution_count": 51,
   "metadata": {},
   "outputs": [],
   "source": [
    "def merge_sort(array):\n",
    "    #print the input array every time\n",
    "    #print(array)\n",
    "    #if the array is splitted into single digits stop and return the array/value\n",
    "    if len(array) <= 1:\n",
    "        return array\n",
    "    \n",
    "    #splite the array into two halfs with the one line for-loop\n",
    "    arrayOne = [array[i] for i in range(0, int(len(array)/2))]\n",
    "    arrayTwo = [array[i] for i in range(int(len(array)/2), len(array))]\n",
    "    \n",
    "    #input the first half into function recursively to end up with the case that the array cannot be split anymore\n",
    "    arrayOne = merge_sort(arrayOne)\n",
    "    #do the same for the other half of the array\n",
    "    arrayTwo = merge_sort(arrayTwo)\n",
    "    \n",
    "    #merge the array from single values up to the sorted array named output\n",
    "    output = merge(arrayOne, arrayTwo)\n",
    "    return output\n",
    "\n",
    "#the merging of two arrays\n",
    "def merge(array_a, array_b):\n",
    "    #use temporary array\n",
    "    c = []\n",
    "    \n",
    "    #if either of the arrays still has numbers in them keep merging\n",
    "    while len(array_a) and len(array_b) > 0:\n",
    "        #check which first number is smallest and add to array 'c'\n",
    "        if array_a[0] > array_b[0]:\n",
    "            c.append(array_b[0])\n",
    "            #delete the first item of array_b that is the smalles\n",
    "            array_b = array_b[1:]\n",
    "        \n",
    "        #else array_a is smaller so add to 'c' and delete from array_a\n",
    "        else:\n",
    "            c.append(array_a[0])\n",
    "            array_a = array_a[1:]\n",
    "\n",
    "    #if only one array has numbers in them append it to the end of c\n",
    "    while len(array_a)>0:\n",
    "        c.append(array_a[0])\n",
    "        #same as above\n",
    "        array_a = array_a[1:]\n",
    "        #del array_a[0]\n",
    "        \n",
    "    while len(array_b)>0:\n",
    "        c.append(array_b[0])\n",
    "        #not sure about the next function\n",
    "        #array_b = array_b[:-1]\n",
    "        array_b = array_b[1:]\n",
    "    \n",
    "    #returns the sorted list\n",
    "    return c\n",
    "    \n"
   ]
  },
  {
   "cell_type": "code",
   "execution_count": 52,
   "metadata": {},
   "outputs": [
    {
     "name": "stdout",
     "output_type": "stream",
     "text": [
      "[1, 1, 1, 1, 1, 1, 2, 2, 2, 3, 4, 5, 6, 7, 7, 11, 12, 18, 30, 41, 42, 43, 49, 83, 222, 491]\n"
     ]
    }
   ],
   "source": [
    "sorted_arr = merge_sort(easy_arr)\n",
    "print(sorted_arr)"
   ]
  },
  {
   "cell_type": "code",
   "execution_count": 54,
   "metadata": {},
   "outputs": [
    {
     "name": "stdout",
     "output_type": "stream",
     "text": [
      "[7, 32, 38, 46, 50, 84, 85, 92, 94, 134, 146, 154, 160, 186, 189, 190, 198, 201, 213, 226, 241, 271, 271, 305, 312, 324, 326, 339, 349, 356, 368, 371, 379, 383, 384, 400, 409, 418, 432, 434, 439, 450, 455, 460, 463, 466, 478, 480, 488, 491, 510, 511, 519, 524, 527, 533, 537, 542, 555, 557, 564, 606, 664, 667, 670, 680, 705, 705, 718, 726, 735, 741, 755, 776, 808, 811, 813, 821, 835, 844, 847, 848, 850, 875, 876, 878, 891, 897, 904, 905, 914, 922, 922, 926, 931, 937, 958, 982, 992, 998]\n"
     ]
    }
   ],
   "source": [
    "random_arr = merge_sort(random_arr)\n",
    "print(random_arr)"
   ]
  }
 ],
 "metadata": {
  "kernelspec": {
   "display_name": "Python 3.11.0 64-bit",
   "language": "python",
   "name": "python3"
  },
  "language_info": {
   "codemirror_mode": {
    "name": "ipython",
    "version": 3
   },
   "file_extension": ".py",
   "mimetype": "text/x-python",
   "name": "python",
   "nbconvert_exporter": "python",
   "pygments_lexer": "ipython3",
   "version": "3.11.0"
  },
  "vscode": {
   "interpreter": {
    "hash": "69050057aa3ee0ad21cd21a2bd05214a312ae4a4d5d30c5361be4cb9d99f1b79"
   }
  }
 },
 "nbformat": 4,
 "nbformat_minor": 2
}
