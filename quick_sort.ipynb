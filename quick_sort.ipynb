{
 "cells": [
  {
   "cell_type": "code",
   "execution_count": 88,
   "metadata": {},
   "outputs": [],
   "source": [
    "import statistics, random\n",
    "#quicksort with help of https://thecodingtrain.com/CodingChallenges/143-quicksort.html\n",
    "#recursive algorithm\n",
    "#pivot\n",
    "#1 the pivot is in the correct position in final sorted array\n",
    "#2 items to the left are smaller\n",
    "#3 items to the right are larger\n",
    "\n",
    "easy_arr = [1,23,4,5,6,63,1,115]\n",
    "\n",
    "#pick a pivot location on a heuristic that the middel is the median of three picks\n",
    "def setup_pivot(array):\n",
    "    start = 0\n",
    "    middle = int(len(array)/2)\n",
    "    end = len(array)-1\n",
    "    \n",
    "    pivot_heuristic = [array[start], array[middle], array[end]]\n",
    "    pivot_heur_index = [0, middle, end]\n",
    "    \n",
    "    #find median value of the three index values start, middle and end\n",
    "    pivot = statistics.median(pivot_heuristic)\n",
    "    first_pivot_index = 0\n",
    "    for i in range(0,len(pivot_heuristic)-1):\n",
    "        if pivot_heuristic[i] == pivot:\n",
    "            first_pivot_index = pivot_heur_index[i]\n",
    "\n",
    "    swap(array, first_pivot_index, end)\n",
    "\n",
    "\n",
    "def quicksort(array, start, end):\n",
    "    #finish recursion\n",
    "    if start>= end:\n",
    "        return\n",
    "    \n",
    "    #find where pivot index ended up \n",
    "    pivot_index = partition(array, start, end)\n",
    "\n",
    "    #set all other items in right position before pivot and after pivot\n",
    "    quicksort(array, start, pivot_index-1)\n",
    "    quicksort(array, pivot_index+1, end)\n",
    "    \n",
    "    \n",
    "def partition(array, start, end):\n",
    "    pivot_value = array[end]\n",
    "    pivot_index = start\n",
    "    #search the partition\n",
    "    for i in range(start, end):\n",
    "        #put all that is larger after \"pivot\" and all that is smaller before \"pivot\"\n",
    "        if array[i] < pivot_value:\n",
    "            swap(array, i, pivot_index)\n",
    "            pivot_index +=1\n",
    "    \n",
    "    #perform last swap\n",
    "    swap(array, pivot_index, end)\n",
    "    return pivot_index\n",
    "\n",
    "def swap(array, a, b):\n",
    "    temp = array[a]\n",
    "    array[a] = array[b]\n",
    "    array[b]= temp"
   ]
  },
  {
   "cell_type": "code",
   "execution_count": 89,
   "metadata": {},
   "outputs": [
    {
     "name": "stdout",
     "output_type": "stream",
     "text": [
      "[1, 1, 4, 5, 6, 23, 63, 115]\n"
     ]
    }
   ],
   "source": [
    "setup_pivot(easy_arr)\n",
    "quicksort(easy_arr, 0, len(easy_arr)-1)  \n",
    "print(easy_arr)"
   ]
  },
  {
   "cell_type": "code",
   "execution_count": 93,
   "metadata": {},
   "outputs": [
    {
     "name": "stdout",
     "output_type": "stream",
     "text": [
      "[141, 635, 996, 650, 541, 409, 370, 218, 236, 529, 259, 278, 12, 950, 708, 640, 465, 382, 273, 265, 855, 595, 926, 420, 868, 99, 229, 646, 656, 765, 594, 781, 699, 45, 138, 150, 215, 608, 899, 838, 674, 769, 41, 328, 793, 243, 215, 992, 832, 944, 353, 959, 487, 790, 432, 231, 965, 226, 979, 526, 89, 793, 4, 875, 410, 129, 245, 950, 57, 893, 132, 684, 538, 331, 126, 38, 471, 521, 432, 389, 813, 445, 630, 958, 718, 755, 100, 377, 450, 245, 552, 620, 311, 363, 347, 108, 888, 265, 243, 492]\n",
      "[141, 635, 996, 650, 541, 409, 370, 218, 236, 529, 259, 278, 12, 950, 708, 640, 465, 382, 273, 265, 855, 595, 926, 420, 868, 99, 229, 646, 656, 765, 594, 781, 699, 45, 138, 150, 215, 608, 899, 838, 674, 769, 41, 328, 793, 243, 215, 992, 832, 944, 492, 959, 487, 790, 432, 231, 965, 226, 979, 526, 89, 793, 4, 875, 410, 129, 245, 950, 57, 893, 132, 684, 538, 331, 126, 38, 471, 521, 432, 389, 813, 445, 630, 958, 718, 755, 100, 377, 450, 245, 552, 620, 311, 363, 347, 108, 888, 265, 243, 353]\n",
      "[4, 12, 38, 41, 45, 57, 89, 99, 100, 108, 126, 129, 132, 138, 141, 150, 215, 215, 218, 226, 229, 231, 236, 243, 243, 245, 245, 259, 265, 265, 273, 278, 311, 328, 331, 347, 353, 363, 370, 377, 382, 389, 409, 410, 420, 432, 432, 445, 450, 465, 471, 487, 492, 521, 526, 529, 538, 541, 552, 594, 595, 608, 620, 630, 635, 640, 646, 650, 656, 674, 684, 699, 708, 718, 755, 765, 769, 781, 790, 793, 793, 813, 832, 838, 855, 868, 875, 888, 893, 899, 926, 944, 950, 950, 958, 959, 965, 979, 992, 996]\n"
     ]
    }
   ],
   "source": [
    "#testing with a random array of 100 values with value between 1 and 999\n",
    "random_arr = [random.randint(1,999) for _ in range(100)]\n",
    "print(random_arr)\n",
    "setup_pivot(random_arr)\n",
    "print(random_arr)\n",
    "quicksort(random_arr, 0, len(random_arr)-1)\n",
    "print(random_arr)"
   ]
  }
 ],
 "metadata": {
  "kernelspec": {
   "display_name": "Python 3",
   "language": "python",
   "name": "python3"
  },
  "language_info": {
   "codemirror_mode": {
    "name": "ipython",
    "version": 3
   },
   "file_extension": ".py",
   "mimetype": "text/x-python",
   "name": "python",
   "nbconvert_exporter": "python",
   "pygments_lexer": "ipython3",
   "version": "3.7.1"
  }
 },
 "nbformat": 4,
 "nbformat_minor": 2
}
